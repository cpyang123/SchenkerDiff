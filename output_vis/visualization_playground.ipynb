{
 "cells": [
  {
   "cell_type": "code",
   "execution_count": 11,
   "metadata": {},
   "outputs": [],
   "source": [
    "# %matplotlib inline\n",
    "import networkx as nx\n",
    "import matplotlib.pyplot as plt\n",
    "import ipywidgets as widgets\n",
    "from ipywidgets import interact\n"
   ]
  },
  {
   "cell_type": "code",
   "execution_count": 12,
   "metadata": {},
   "outputs": [],
   "source": [
    "\n",
    "%matplotlib inline\n"
   ]
  },
  {
   "cell_type": "code",
   "execution_count": 13,
   "metadata": {},
   "outputs": [],
   "source": [
    "# Define the ordered list of scale degree labels.\n",
    "scale_degrees = [\n",
    "    \"A2\", \"dd3\", \"AA7\", \"dd-2\", \"m2\", \"P8\", \"A6\", \"AAA4\", \"d2\", \"m7\",\n",
    "    \"A3\", \"d3\", \"A7\", \"dd5\", \"d5\", \"d4\", \"AA8\", \"M2\", \"m6\", \"AA2\",\n",
    "    \"M7\", \"dd4\", \"m3\", \"A5\", \"AA5\", \"A4\", \"AA3\", \"ddd5\", \"M3\", \"P5\",\n",
    "    \"d7\", \"P4\", \"AA1\", \"dd7\", \"AA6\", \"A1\", \"M6\", \"AA4\", \"A8\", \"d6\",\n",
    "    \"dd2\", \"dd6\"\n",
    "]\n",
    "n_scale = len(scale_degrees)"
   ]
  },
  {
   "cell_type": "code",
   "execution_count": 14,
   "metadata": {},
   "outputs": [],
   "source": [
    "def parse_graph_from_lines(lines):\n",
    "    \"\"\"\n",
    "    Given a list of nonempty lines for one graph, parse and return (N, nodes, matrix).\n",
    "    \n",
    "    The expected format is:\n",
    "       N=50\n",
    "       X:\n",
    "       <node values on one or more lines>\n",
    "       E:\n",
    "       <edge matrix values spanning N*N numbers across one or more lines>\n",
    "    \"\"\"\n",
    "    # First line is \"N=50\" (or similar)\n",
    "    N = int(lines[0].split(\"=\")[1])\n",
    "    \n",
    "    # Find the indices for the \"X:\" and \"E:\" markers.\n",
    "    try:\n",
    "        x_index = lines.index(\"X:\") + 1\n",
    "    except ValueError:\n",
    "        raise ValueError(\"Could not find 'X:' section in the graph chunk.\")\n",
    "    try:\n",
    "        e_index = lines.index(\"E:\")\n",
    "    except ValueError:\n",
    "        raise ValueError(\"Could not find 'E:' section in the graph chunk.\")\n",
    "    \n",
    "    # Gather all node values from lines between \"X:\" and \"E:\".\n",
    "    x_values = []\n",
    "    for line in lines[x_index:e_index]:\n",
    "        x_values.extend(line.split())\n",
    "    if len(x_values) != N:\n",
    "        raise ValueError(f\"Expected {N} node values but found {len(x_values)}\")\n",
    "    nodes = [int(val) for val in x_values]\n",
    "    \n",
    "    # Gather all edge matrix numbers from the lines after \"E:\".\n",
    "    edge_numbers = []\n",
    "    for line in lines[e_index+1:]:\n",
    "        edge_numbers.extend(line.split())\n",
    "    if len(edge_numbers) != N * N:\n",
    "        raise ValueError(f\"Expected {N*N} edge values but found {len(edge_numbers)}\")\n",
    "    \n",
    "    # Build the N x N matrix.\n",
    "    matrix = []\n",
    "    for i in range(N):\n",
    "        row = [int(edge_numbers[i * N + j]) for j in range(N)]\n",
    "        matrix.append(row)\n",
    "    \n",
    "    return N, nodes, matrix"
   ]
  },
  {
   "cell_type": "code",
   "execution_count": 15,
   "metadata": {},
   "outputs": [],
   "source": [
    "def parse_graphs_file(filename):\n",
    "    \"\"\"\n",
    "    Read the file and split it into separate graph chunks.\n",
    "    Each graph is assumed to begin with a line starting with \"N=\".\n",
    "    Returns a list of tuples (N, nodes, matrix) for each graph.\n",
    "    \"\"\"\n",
    "    with open(filename, \"r\") as f:\n",
    "        # Read and strip blank lines.\n",
    "        lines = [line.strip() for line in f if line.strip()]\n",
    "    \n",
    "    graphs_data = []\n",
    "    i = 0\n",
    "    while i < len(lines):\n",
    "        if lines[i].startswith(\"N=\"):\n",
    "            # Start of a new graph.\n",
    "            current_chunk = []\n",
    "            # Collect lines until the next \"N=\" or end-of-file.\n",
    "            while i < len(lines) and not (lines[i].startswith(\"N=\") and current_chunk):\n",
    "                current_chunk.append(lines[i])\n",
    "                i += 1\n",
    "            # If the next graph starts immediately, current_chunk will contain one complete graph.\n",
    "            graphs_data.append(parse_graph_from_lines(current_chunk))\n",
    "        else:\n",
    "            i += 1\n",
    "    return graphs_data\n"
   ]
  },
  {
   "cell_type": "code",
   "execution_count": 16,
   "metadata": {},
   "outputs": [],
   "source": [
    "\n",
    "def build_graph(N, node_vals, matrix):\n",
    "    \"\"\"\n",
    "    Build a directed graph from node values and the edge matrix.\n",
    "    A node value of 51 is treated as a rest.\n",
    "    \"\"\"\n",
    "    G = nx.DiGraph()\n",
    "    for i, val in enumerate(node_vals):\n",
    "        if val == 51:\n",
    "            label = \"Rest\"\n",
    "        else:\n",
    "            label = scale_degrees[val % n_scale]\n",
    "        # Adding the node with its label (optionally include the node index).\n",
    "        G.add_node(i, label=label)\n",
    "    \n",
    "    # Add edges only if the weight is nonzero.\n",
    "    for i in range(N):\n",
    "        for j in range(N):\n",
    "            w = matrix[i][j]\n",
    "            if w != 0:\n",
    "                G.add_edge(i, j, weight=w)\n",
    "    return G\n"
   ]
  },
  {
   "cell_type": "code",
   "execution_count": 17,
   "metadata": {},
   "outputs": [],
   "source": [
    "\n",
    "def visualize_graph(G):\n",
    "    \"\"\"\n",
    "    Visualize the directed graph using a spring layout.\n",
    "    Node labels and edge weight labels are shown.\n",
    "    \"\"\"\n",
    "    pos = nx.spring_layout(G)\n",
    "    labels = {n: f\"{G.nodes[n]['label']}\\n({n})\" for n in G.nodes()}\n",
    "    \n",
    "    nx.draw_networkx_nodes(G, pos, node_color=\"lightblue\", node_size=500)\n",
    "    nx.draw_networkx_labels(G, pos, labels, font_size=8)\n",
    "    nx.draw_networkx_edges(G, pos, arrowstyle='->', arrowsize=10, edge_color='gray')\n",
    "    \n",
    "    # Optionally display edge weight labels.\n",
    "    edge_labels = {(u, v): d['weight'] for u, v, d in G.edges(data=True)}\n",
    "    nx.draw_networkx_edge_labels(G, pos, edge_labels=edge_labels, font_color='red', font_size=6)\n",
    "    \n",
    "    plt.axis(\"off\")\n",
    "    plt.tight_layout()\n",
    "    plt.show()\n"
   ]
  },
  {
   "cell_type": "code",
   "execution_count": 18,
   "metadata": {},
   "outputs": [],
   "source": [
    "# --- Main interactive section ---\n",
    "\n",
    "# Specify the path to your file containing one or more graphs.\n",
    "filename = \"generated_samples1.txt\"\n",
    "# Parse the file into a list of graph tuples.\n",
    "graphs_data = parse_graphs_file(filename)"
   ]
  },
  {
   "cell_type": "code",
   "execution_count": 19,
   "metadata": {},
   "outputs": [],
   "source": [
    "\n",
    "def update_graph(graph_index, threshold):\n",
    "    \"\"\"\n",
    "    Update the graph visualization.\n",
    "    Selects a graph by its index and filters out edges with weight < threshold.\n",
    "    \"\"\"\n",
    "    N, node_vals, matrix = graphs_data[graph_index]\n",
    "    G = build_graph(N, node_vals, matrix)\n",
    "    \n",
    "    # Create a filtered graph that only includes edges meeting the threshold.\n",
    "    H = nx.DiGraph()\n",
    "    for node, data in G.nodes(data=True):\n",
    "         H.add_node(node, **data)\n",
    "    for u, v, data in G.edges(data=True):\n",
    "         if data['weight'] >= threshold:\n",
    "             H.add_edge(u, v, **data)\n",
    "    \n",
    "    plt.figure(figsize=(10, 8))\n",
    "    visualize_graph(H)\n"
   ]
  },
  {
   "cell_type": "code",
   "execution_count": 20,
   "metadata": {},
   "outputs": [],
   "source": [
    "\n",
    "# Create widgets: a dropdown for selecting the graph and a slider for edge weight threshold.\n",
    "graph_dropdown = widgets.Dropdown(\n",
    "    options=[(f\"Graph {i}\", i) for i in range(len(graphs_data))],\n",
    "    description=\"Graph:\"\n",
    ")\n",
    "threshold_slider = widgets.IntSlider(\n",
    "    value=0, min=0, max=30, step=1, description=\"Min Edge Weight:\"\n",
    ")\n",
    "\n"
   ]
  },
  {
   "cell_type": "code",
   "execution_count": 21,
   "metadata": {},
   "outputs": [
    {
     "data": {
      "application/vnd.jupyter.widget-view+json": {
       "model_id": "a0858f42ce814b0b99bda2783d236f45",
       "version_major": 2,
       "version_minor": 0
      },
      "text/plain": [
       "interactive(children=(Dropdown(description='Graph:', options=(('Graph 0', 0), ('Graph 1', 1), ('Graph 2', 2)),…"
      ]
     },
     "metadata": {},
     "output_type": "display_data"
    },
    {
     "data": {
      "text/plain": [
       "<function __main__.update_graph(graph_index, threshold)>"
      ]
     },
     "execution_count": 21,
     "metadata": {},
     "output_type": "execute_result"
    }
   ],
   "source": [
    "\n",
    "interact(update_graph, graph_index=graph_dropdown, threshold=threshold_slider)"
   ]
  }
 ],
 "metadata": {
  "kernelspec": {
   "display_name": "digress",
   "language": "python",
   "name": "python3"
  },
  "language_info": {
   "codemirror_mode": {
    "name": "ipython",
    "version": 3
   },
   "file_extension": ".py",
   "mimetype": "text/x-python",
   "name": "python",
   "nbconvert_exporter": "python",
   "pygments_lexer": "ipython3",
   "version": "3.9.20"
  }
 },
 "nbformat": 4,
 "nbformat_minor": 2
}
