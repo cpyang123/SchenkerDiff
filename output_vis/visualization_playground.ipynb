{
 "cells": [
  {
   "cell_type": "code",
   "execution_count": 4,
   "metadata": {},
   "outputs": [],
   "source": [
    "import networkx as nx\n",
    "import ipywidgets as widgets\n",
    "from ipywidgets import interact\n",
    "from pyvis.network import Network\n",
    "from IPython.display import display, HTML\n",
    "import os\n",
    "import pickle \n"
   ]
  },
  {
   "cell_type": "code",
   "execution_count": 5,
   "metadata": {},
   "outputs": [],
   "source": [
    "\n",
    "%matplotlib inline\n"
   ]
  },
  {
   "cell_type": "code",
   "execution_count": 6,
   "metadata": {},
   "outputs": [],
   "source": [
    "# Define the ordered list of scale degree labels.\n",
    "scale_degrees = [\n",
    "    'A2', 'm2', 'P8', 'A6',\n",
    "    'm7', 'M2', 'm6', 'M7',\n",
    "    'm3', 'M3', 'P5', 'd7',\n",
    "    'P4', 'M6', 'A4', 'd5'\n",
    "]\n",
    "n_scale = len(scale_degrees)\n",
    "\n",
    "INTERVAL_TO_SEMITONES = {\n",
    "    'P8': 0,   # tonic (0 semitones)\n",
    "    'm2': 1,   # 1 semitone\n",
    "    'M2': 2,   # 2 semitones\n",
    "    'm3': 3,   # 3 semitones\n",
    "    'A2': 3,   # augmented 2nd (enharmonically same as m3)\n",
    "    'M3': 4,   # 4 semitones\n",
    "    'P4': 5,   # 5 semitones\n",
    "    'A4': 6,   # augmented fourth (6 semitones)\n",
    "    'd5': 6,   # diminished fifth (6 semitones)\n",
    "    'P5': 7,   # 7 semitones\n",
    "    'm6': 8,   # 8 semitones\n",
    "    'M6': 9,   # 9 semitones\n",
    "    'd7': 9,   # diminished seventh (9 semitones)\n",
    "    'm7': 10,  # 10 semitones\n",
    "    'A6': 10,  # augmented sixth (10 semitones)\n",
    "    'M7': 11   # 11 semitones\n",
    "}\n",
    "rest_val = 16"
   ]
  },
  {
   "cell_type": "code",
   "execution_count": 4,
   "metadata": {},
   "outputs": [
    {
     "name": "stdout",
     "output_type": "stream",
     "text": [
      "{'A2': 0, 'm2': 1, 'P8': 2, 'A6': 3, 'm7': 4, 'M2': 5, 'm6': 6, 'M7': 7, 'm3': 8, 'M3': 9, 'P5': 10, 'd7': 11, 'P4': 12, 'M6': 13, 'A4': 14, 'd5': 15}\n"
     ]
    }
   ],
   "source": [
    "with open('scale_degree_map.pkl', 'rb') as f:\n",
    "    scale_map = pickle.load(f)    \n",
    "print(scale_map)"
   ]
  },
  {
   "cell_type": "code",
   "execution_count": 7,
   "metadata": {},
   "outputs": [],
   "source": [
    "\n",
    "def parse_graph_from_lines(lines):\n",
    "    \"\"\"\n",
    "    Parse a single graph from a list of nonempty lines.\n",
    "    \n",
    "    Expected format:\n",
    "       N=50\n",
    "       X:\n",
    "       <node values spanning one or more lines>\n",
    "       E:\n",
    "       <N*N edge values spanning one or more lines>\n",
    "    \"\"\"\n",
    "    N = int(lines[0].split(\"=\")[1])\n",
    "    try:\n",
    "        x_index = lines.index(\"X:\") + 1\n",
    "    except ValueError:\n",
    "        raise ValueError(\"Could not find 'X:' section in the graph chunk.\")\n",
    "    try:\n",
    "        e_index = lines.index(\"E:\")\n",
    "    except ValueError:\n",
    "        raise ValueError(\"Could not find 'E:' section in the graph chunk.\")\n",
    "    \n",
    "    x_values = []\n",
    "    for line in lines[x_index:e_index]:\n",
    "        x_values.extend(line.split())\n",
    "    if len(x_values) != N:\n",
    "        raise ValueError(f\"Expected {N} node values but found {len(x_values)}\")\n",
    "    nodes = [int(val) for val in x_values]\n",
    "    \n",
    "    edge_numbers = []\n",
    "    for line in lines[e_index+1:]:\n",
    "        edge_numbers.extend(line.split())\n",
    "    if len(edge_numbers) != N * N:\n",
    "        raise ValueError(f\"Expected {N*N} edge values but found {len(edge_numbers)}\")\n",
    "    \n",
    "    matrix = []\n",
    "    for i in range(N):\n",
    "        row = [int(edge_numbers[i * N + j]) for j in range(N)]\n",
    "        matrix.append(row)\n",
    "\n",
    "    upper_triangular = [\n",
    "        [matrix[i][j] if i <= j else 0 for j in range(len(matrix[0]))]\n",
    "        for i in range(len(matrix))\n",
    "    ]\n",
    "    \n",
    "    return N, nodes, upper_triangular\n",
    "\n",
    "def parse_graphs_file(filename):\n",
    "    \"\"\"\n",
    "    Parse a file that contains one or more graphs.\n",
    "    Each graph is assumed to start with a line beginning with \"N=\".\n",
    "    Returns a list of (N, nodes, matrix) tuples.\n",
    "    \"\"\"\n",
    "    with open(filename, \"r\") as f:\n",
    "        lines = [line.strip() for line in f if line.strip()]\n",
    "    \n",
    "    graphs_data = []\n",
    "    i = 0\n",
    "    while i < len(lines):\n",
    "        if lines[i].startswith(\"N=\"):\n",
    "            current_chunk = []\n",
    "            # Collect lines until we hit the next \"N=\" (except for the first line)\n",
    "            while i < len(lines) and (not (lines[i].startswith(\"N=\") and current_chunk)):\n",
    "                current_chunk.append(lines[i])\n",
    "                i += 1\n",
    "            graphs_data.append(parse_graph_from_lines(current_chunk))\n",
    "        else:\n",
    "            i += 1\n",
    "    return graphs_data\n",
    "\n",
    "def build_graph(N, node_vals, matrix):\n",
    "    \"\"\"\n",
    "    Build a NetworkX directed graph from node values and the edge matrix.\n",
    "    Node values of 51 are treated as a rest.\n",
    "    \"\"\"\n",
    "    G = nx.DiGraph()\n",
    "    for i, val in enumerate(node_vals):\n",
    "        label = \"Rest\" if val == rest_val else scale_degrees[val % n_scale]\n",
    "        G.add_node(i, label=label)\n",
    "    for i in range(N):\n",
    "        for j in range(N):\n",
    "            w = matrix[i][j]\n",
    "            if w != 0:\n",
    "                G.add_edge(i, j, weight=w)\n",
    "    return G\n"
   ]
  },
  {
   "cell_type": "code",
   "execution_count": 9,
   "metadata": {},
   "outputs": [],
   "source": [
    "\n",
    "# Parse all graphs from the file.\n",
    "filename = \"generated_samples1.txt\"\n",
    "graphs_data = parse_graphs_file(filename)\n",
    "\n",
    "# Create widgets for interactive selection.\n",
    "graph_dropdown = widgets.Dropdown(\n",
    "    options=[(f\"Graph {i}\", i) for i in range(len(graphs_data))],\n",
    "    description=\"Graph:\"\n",
    ")\n",
    "threshold_slider = widgets.IntSlider(\n",
    "    value=0, min=0, max=30, step=1, description=\"Min Edge Weight:\"\n",
    ")\n",
    "\n",
    "def update_pyvis(graph_index, threshold):\n",
    "    \"\"\"\n",
    "    Update the interactive PyVis visualization.\n",
    "    Filters out edges with weight below the given threshold.\n",
    "    \"\"\"\n",
    "    N, node_vals, matrix = graphs_data[graph_index]\n",
    "    G = build_graph(N, node_vals, matrix)\n",
    "    \n",
    "    # Create a filtered copy of the graph.\n",
    "    H = nx.DiGraph()\n",
    "    for node, data in G.nodes(data=True):\n",
    "        H.add_node(node, **data)\n",
    "    for u, v, data in G.edges(data=True):\n",
    "        if data['weight'] >= threshold:\n",
    "            H.add_edge(u, v, **data)\n",
    "    \n",
    "    # Create a PyVis network.\n",
    "    net = Network(height=\"600px\", width=\"100%\", directed=True, notebook=True, cdn_resources='in_line')\n",
    "\n",
    "    net.from_nx(H)\n",
    "    \n",
    "    # Save to a temporary HTML file and display inline.\n",
    "    temp_html = \"temp_graph.html\"\n",
    "    net.show(temp_html)\n",
    "    with open(temp_html, \"r\", encoding=\"utf-8\") as f:\n",
    "        html_content = f.read()\n",
    "    # display(HTML(html_content))\n",
    " \n",
    "\n",
    "\n"
   ]
  },
  {
   "cell_type": "code",
   "execution_count": 11,
   "metadata": {},
   "outputs": [],
   "source": [
    "def get_note_sequence(G):\n",
    "    \"\"\"\n",
    "    Traverse G as a chain: starting from node 0, follow the unique outgoing edge\n",
    "    (choose the smallest index successor) from each node.\n",
    "    Returns a list of node indices representing the note sequence.\n",
    "    \"\"\"\n",
    "    sequence = []\n",
    "    current = 0\n",
    "    visited = set()\n",
    "    while True:\n",
    "        if current in visited:\n",
    "            break\n",
    "        visited.add(current)\n",
    "        sequence.append(current)\n",
    "        successors = [j for j in G.successors(current) if j > current]\n",
    "        if not successors:\n",
    "            break\n",
    "        next_node = min(successors)\n",
    "        current = next_node\n",
    "    return sequence"
   ]
  },
  {
   "cell_type": "code",
   "execution_count": 10,
   "metadata": {},
   "outputs": [
    {
     "data": {
      "application/vnd.jupyter.widget-view+json": {
       "model_id": "ef709766e2c84129842799077a92065c",
       "version_major": 2,
       "version_minor": 0
      },
      "text/plain": [
       "interactive(children=(Dropdown(description='Graph:', options=(('Graph 0', 0), ('Graph 1', 1), ('Graph 2', 2)),…"
      ]
     },
     "metadata": {},
     "output_type": "display_data"
    },
    {
     "data": {
      "text/plain": [
       "<function __main__.update_pyvis(graph_index, threshold)>"
      ]
     },
     "execution_count": 10,
     "metadata": {},
     "output_type": "execute_result"
    }
   ],
   "source": [
    "# Create interactive controls.\n",
    "interact(update_pyvis, graph_index=graph_dropdown, threshold=threshold_slider)"
   ]
  },
  {
   "cell_type": "code",
   "execution_count": null,
   "metadata": {},
   "outputs": [],
   "source": [
    "import panel as pn\n",
    "import param\n",
    "\n",
    "pn.extension()\n",
    "def update_network_html(graph_index, threshold, graphs_data):\n",
    "    \"\"\"\n",
    "    Given a graph index and edge weight threshold, build the corresponding graph,\n",
    "    filter out edges with weight < threshold, and generate a PyVis network.\n",
    "    Returns the HTML content as a string.\n",
    "    \"\"\"\n",
    "    N, node_values, matrix = graphs_data[graph_index]\n",
    "    G = build_graph(N, node_values, matrix)\n",
    "    \n",
    "    # Filter graph: create a new graph with only edges meeting the threshold.\n",
    "    H = nx.DiGraph()\n",
    "    for node, data in G.nodes(data=True):\n",
    "        H.add_node(node, **data)\n",
    "    for u, v, data in G.edges(data=True):\n",
    "        if data['weight'] >= threshold:\n",
    "            H.add_edge(u, v, **data)\n",
    "    \n",
    "    net = Network(height=\"600px\", width=\"100%\", directed=True, cdn_resources='in_line')\n",
    "    net.from_nx(H)\n",
    "    # Save to a temporary HTML file.\n",
    "    temp_html = \"temp_network.html\"\n",
    "    net.show(temp_html)\n",
    "    with open(temp_html, \"r\", encoding=\"utf-8\") as f:\n",
    "        html_content = f.read()\n",
    "    os.remove(temp_html)\n",
    "    return html_content\n",
    "\n",
    "# --- Panel Dashboard Definition ---\n",
    "\n",
    "class Dashboard(param.Parameterized):\n",
    "    graph_index = param.Integer(default=0, bounds=(0, 0))\n",
    "    threshold = param.Integer(default=0, bounds=(0, 30))\n",
    "    \n",
    "    def view_network(self):\n",
    "        return pn.pane.HTML(update_network_html(self.graph_index, self.threshold, graphs_data),\n",
    "                              sizing_mode=\"stretch_both\")"
   ]
  },
  {
   "cell_type": "code",
   "execution_count": 21,
   "metadata": {},
   "outputs": [
    {
     "name": "stdout",
     "output_type": "stream",
     "text": [
      "temp_network.html\n"
     ]
    },
    {
     "ename": "AttributeError",
     "evalue": "'NoneType' object has no attribute 'render'",
     "output_type": "error",
     "traceback": [
      "\u001b[0;31m---------------------------------------------------------------------------\u001b[0m",
      "\u001b[0;31mAttributeError\u001b[0m                            Traceback (most recent call last)",
      "Cell \u001b[0;32mIn[21], line 13\u001b[0m\n\u001b[1;32m     10\u001b[0m dashboard\u001b[38;5;241m.\u001b[39mparam\u001b[38;5;241m.\u001b[39mgraph_index\u001b[38;5;241m.\u001b[39mbounds \u001b[38;5;241m=\u001b[39m (\u001b[38;5;241m0\u001b[39m, num_graphs \u001b[38;5;241m-\u001b[39m \u001b[38;5;241m1\u001b[39m)\n\u001b[1;32m     12\u001b[0m \u001b[38;5;66;03m# Create a Panel layout with parameter widgets and the network view.\u001b[39;00m\n\u001b[0;32m---> 13\u001b[0m dashboard_panel \u001b[38;5;241m=\u001b[39m \u001b[43mpn\u001b[49m\u001b[38;5;241;43m.\u001b[39;49m\u001b[43mRow\u001b[49m\u001b[43m(\u001b[49m\n\u001b[1;32m     14\u001b[0m \u001b[43m    \u001b[49m\u001b[43mpn\u001b[49m\u001b[38;5;241;43m.\u001b[39;49m\u001b[43mParam\u001b[49m\u001b[43m(\u001b[49m\u001b[43mdashboard\u001b[49m\u001b[38;5;241;43m.\u001b[39;49m\u001b[43mparam\u001b[49m\u001b[43m,\u001b[49m\u001b[43m \u001b[49m\u001b[43mwidgets\u001b[49m\u001b[38;5;241;43m=\u001b[39;49m\u001b[43m{\u001b[49m\n\u001b[1;32m     15\u001b[0m \u001b[43m        \u001b[49m\u001b[38;5;124;43m'\u001b[39;49m\u001b[38;5;124;43mgraph_index\u001b[39;49m\u001b[38;5;124;43m'\u001b[39;49m\u001b[43m:\u001b[49m\u001b[43m \u001b[49m\u001b[43mpn\u001b[49m\u001b[38;5;241;43m.\u001b[39;49m\u001b[43mwidgets\u001b[49m\u001b[38;5;241;43m.\u001b[39;49m\u001b[43mIntSlider\u001b[49m\u001b[43m,\u001b[49m\u001b[43m \u001b[49m\n\u001b[1;32m     16\u001b[0m \u001b[43m        \u001b[49m\u001b[38;5;124;43m'\u001b[39;49m\u001b[38;5;124;43mthreshold\u001b[39;49m\u001b[38;5;124;43m'\u001b[39;49m\u001b[43m:\u001b[49m\u001b[43m \u001b[49m\u001b[43mpn\u001b[49m\u001b[38;5;241;43m.\u001b[39;49m\u001b[43mwidgets\u001b[49m\u001b[38;5;241;43m.\u001b[39;49m\u001b[43mIntSlider\u001b[49m\n\u001b[1;32m     17\u001b[0m \u001b[43m    \u001b[49m\u001b[43m}\u001b[49m\u001b[43m)\u001b[49m\u001b[43m,\u001b[49m\n\u001b[1;32m     18\u001b[0m \u001b[43m    \u001b[49m\u001b[43mdashboard\u001b[49m\u001b[38;5;241;43m.\u001b[39;49m\u001b[43mview_network\u001b[49m\n\u001b[1;32m     19\u001b[0m \u001b[43m)\u001b[49m\n\u001b[1;32m     20\u001b[0m \u001b[38;5;66;03m# Save the dashboard as a standalone HTML file.\u001b[39;00m\n\u001b[1;32m     21\u001b[0m output_html \u001b[38;5;241m=\u001b[39m \u001b[38;5;124m\"\u001b[39m\u001b[38;5;124mdashboard.html\u001b[39m\u001b[38;5;124m\"\u001b[39m\n",
      "File \u001b[0;32m~/miniforge3/envs/digress/lib/python3.9/site-packages/panel/layout/base.py:819\u001b[0m, in \u001b[0;36mListPanel.__init__\u001b[0;34m(self, *objects, **params)\u001b[0m\n\u001b[1;32m    815\u001b[0m     \u001b[38;5;28;01mif\u001b[39;00m \u001b[38;5;124m'\u001b[39m\u001b[38;5;124mobjects\u001b[39m\u001b[38;5;124m'\u001b[39m \u001b[38;5;129;01min\u001b[39;00m params:\n\u001b[1;32m    816\u001b[0m         \u001b[38;5;28;01mraise\u001b[39;00m \u001b[38;5;167;01mValueError\u001b[39;00m(\u001b[38;5;124m\"\u001b[39m\u001b[38;5;124mA \u001b[39m\u001b[38;5;132;01m%s\u001b[39;00m\u001b[38;5;124m'\u001b[39m\u001b[38;5;124ms objects should be supplied either \u001b[39m\u001b[38;5;124m\"\u001b[39m\n\u001b[1;32m    817\u001b[0m                          \u001b[38;5;124m\"\u001b[39m\u001b[38;5;124mas positional arguments or as a keyword, \u001b[39m\u001b[38;5;124m\"\u001b[39m\n\u001b[1;32m    818\u001b[0m                          \u001b[38;5;124m\"\u001b[39m\u001b[38;5;124mnot both.\u001b[39m\u001b[38;5;124m\"\u001b[39m \u001b[38;5;241m%\u001b[39m \u001b[38;5;28mtype\u001b[39m(\u001b[38;5;28mself\u001b[39m)\u001b[38;5;241m.\u001b[39m\u001b[38;5;18m__name__\u001b[39m)\n\u001b[0;32m--> 819\u001b[0m     params[\u001b[38;5;124m'\u001b[39m\u001b[38;5;124mobjects\u001b[39m\u001b[38;5;124m'\u001b[39m] \u001b[38;5;241m=\u001b[39m [panel(pane) \u001b[38;5;28;01mfor\u001b[39;00m pane \u001b[38;5;129;01min\u001b[39;00m objects]\n\u001b[1;32m    820\u001b[0m \u001b[38;5;28;01melif\u001b[39;00m \u001b[38;5;124m'\u001b[39m\u001b[38;5;124mobjects\u001b[39m\u001b[38;5;124m'\u001b[39m \u001b[38;5;129;01min\u001b[39;00m params:\n\u001b[1;32m    821\u001b[0m     objects \u001b[38;5;241m=\u001b[39m params[\u001b[38;5;124m'\u001b[39m\u001b[38;5;124mobjects\u001b[39m\u001b[38;5;124m'\u001b[39m]\n",
      "File \u001b[0;32m~/miniforge3/envs/digress/lib/python3.9/site-packages/panel/layout/base.py:819\u001b[0m, in \u001b[0;36m<listcomp>\u001b[0;34m(.0)\u001b[0m\n\u001b[1;32m    815\u001b[0m     \u001b[38;5;28;01mif\u001b[39;00m \u001b[38;5;124m'\u001b[39m\u001b[38;5;124mobjects\u001b[39m\u001b[38;5;124m'\u001b[39m \u001b[38;5;129;01min\u001b[39;00m params:\n\u001b[1;32m    816\u001b[0m         \u001b[38;5;28;01mraise\u001b[39;00m \u001b[38;5;167;01mValueError\u001b[39;00m(\u001b[38;5;124m\"\u001b[39m\u001b[38;5;124mA \u001b[39m\u001b[38;5;132;01m%s\u001b[39;00m\u001b[38;5;124m'\u001b[39m\u001b[38;5;124ms objects should be supplied either \u001b[39m\u001b[38;5;124m\"\u001b[39m\n\u001b[1;32m    817\u001b[0m                          \u001b[38;5;124m\"\u001b[39m\u001b[38;5;124mas positional arguments or as a keyword, \u001b[39m\u001b[38;5;124m\"\u001b[39m\n\u001b[1;32m    818\u001b[0m                          \u001b[38;5;124m\"\u001b[39m\u001b[38;5;124mnot both.\u001b[39m\u001b[38;5;124m\"\u001b[39m \u001b[38;5;241m%\u001b[39m \u001b[38;5;28mtype\u001b[39m(\u001b[38;5;28mself\u001b[39m)\u001b[38;5;241m.\u001b[39m\u001b[38;5;18m__name__\u001b[39m)\n\u001b[0;32m--> 819\u001b[0m     params[\u001b[38;5;124m'\u001b[39m\u001b[38;5;124mobjects\u001b[39m\u001b[38;5;124m'\u001b[39m] \u001b[38;5;241m=\u001b[39m [\u001b[43mpanel\u001b[49m\u001b[43m(\u001b[49m\u001b[43mpane\u001b[49m\u001b[43m)\u001b[49m \u001b[38;5;28;01mfor\u001b[39;00m pane \u001b[38;5;129;01min\u001b[39;00m objects]\n\u001b[1;32m    820\u001b[0m \u001b[38;5;28;01melif\u001b[39;00m \u001b[38;5;124m'\u001b[39m\u001b[38;5;124mobjects\u001b[39m\u001b[38;5;124m'\u001b[39m \u001b[38;5;129;01min\u001b[39;00m params:\n\u001b[1;32m    821\u001b[0m     objects \u001b[38;5;241m=\u001b[39m params[\u001b[38;5;124m'\u001b[39m\u001b[38;5;124mobjects\u001b[39m\u001b[38;5;124m'\u001b[39m]\n",
      "File \u001b[0;32m~/miniforge3/envs/digress/lib/python3.9/site-packages/panel/pane/base.py:86\u001b[0m, in \u001b[0;36mpanel\u001b[0;34m(obj, **kwargs)\u001b[0m\n\u001b[1;32m     84\u001b[0m \u001b[38;5;28;01mif\u001b[39;00m kwargs\u001b[38;5;241m.\u001b[39mget(\u001b[38;5;124m'\u001b[39m\u001b[38;5;124mname\u001b[39m\u001b[38;5;124m'\u001b[39m, \u001b[38;5;28;01mFalse\u001b[39;00m) \u001b[38;5;129;01mis\u001b[39;00m \u001b[38;5;28;01mNone\u001b[39;00m:\n\u001b[1;32m     85\u001b[0m     kwargs\u001b[38;5;241m.\u001b[39mpop(\u001b[38;5;124m'\u001b[39m\u001b[38;5;124mname\u001b[39m\u001b[38;5;124m'\u001b[39m)\n\u001b[0;32m---> 86\u001b[0m pane \u001b[38;5;241m=\u001b[39m \u001b[43mPaneBase\u001b[49m\u001b[38;5;241;43m.\u001b[39;49m\u001b[43mget_pane_type\u001b[49m\u001b[43m(\u001b[49m\u001b[43mobj\u001b[49m\u001b[43m,\u001b[49m\u001b[43m \u001b[49m\u001b[38;5;241;43m*\u001b[39;49m\u001b[38;5;241;43m*\u001b[39;49m\u001b[43mkwargs\u001b[49m\u001b[43m)\u001b[49m\u001b[43m(\u001b[49m\u001b[43mobj\u001b[49m\u001b[43m,\u001b[49m\u001b[43m \u001b[49m\u001b[38;5;241;43m*\u001b[39;49m\u001b[38;5;241;43m*\u001b[39;49m\u001b[43mkwargs\u001b[49m\u001b[43m)\u001b[49m\n\u001b[1;32m     87\u001b[0m \u001b[38;5;28;01mif\u001b[39;00m \u001b[38;5;28mlen\u001b[39m(pane\u001b[38;5;241m.\u001b[39mlayout) \u001b[38;5;241m==\u001b[39m \u001b[38;5;241m1\u001b[39m \u001b[38;5;129;01mand\u001b[39;00m pane\u001b[38;5;241m.\u001b[39m_unpack:\n\u001b[1;32m     88\u001b[0m     \u001b[38;5;28;01mreturn\u001b[39;00m pane\u001b[38;5;241m.\u001b[39mlayout[\u001b[38;5;241m0\u001b[39m]\n",
      "File \u001b[0;32m~/miniforge3/envs/digress/lib/python3.9/site-packages/panel/param.py:831\u001b[0m, in \u001b[0;36mParamRef.__init__\u001b[0;34m(self, object, **params)\u001b[0m\n\u001b[1;32m    829\u001b[0m \u001b[38;5;28mself\u001b[39m\u001b[38;5;241m.\u001b[39m_validate_object()\n\u001b[1;32m    830\u001b[0m \u001b[38;5;28;01mif\u001b[39;00m \u001b[38;5;129;01mnot\u001b[39;00m \u001b[38;5;28mself\u001b[39m\u001b[38;5;241m.\u001b[39mdefer_load:\n\u001b[0;32m--> 831\u001b[0m     \u001b[38;5;28;43mself\u001b[39;49m\u001b[38;5;241;43m.\u001b[39;49m\u001b[43m_replace_pane\u001b[49m\u001b[43m(\u001b[49m\u001b[43m)\u001b[49m\n",
      "File \u001b[0;32m~/miniforge3/envs/digress/lib/python3.9/site-packages/panel/param.py:899\u001b[0m, in \u001b[0;36mParamRef._replace_pane\u001b[0;34m(self, force, *args)\u001b[0m\n\u001b[1;32m    897\u001b[0m \u001b[38;5;28;01melse\u001b[39;00m:\n\u001b[1;32m    898\u001b[0m     \u001b[38;5;28;01mtry\u001b[39;00m:\n\u001b[0;32m--> 899\u001b[0m         new_object \u001b[38;5;241m=\u001b[39m \u001b[38;5;28;43mself\u001b[39;49m\u001b[38;5;241;43m.\u001b[39;49m\u001b[43meval\u001b[49m\u001b[43m(\u001b[49m\u001b[38;5;28;43mself\u001b[39;49m\u001b[38;5;241;43m.\u001b[39;49m\u001b[43mobject\u001b[49m\u001b[43m)\u001b[49m\n\u001b[1;32m    900\u001b[0m         \u001b[38;5;28;01mif\u001b[39;00m new_object \u001b[38;5;129;01mis\u001b[39;00m Skip \u001b[38;5;129;01mand\u001b[39;00m new_object \u001b[38;5;129;01mis\u001b[39;00m Undefined:\n\u001b[1;32m    901\u001b[0m             \u001b[38;5;28mself\u001b[39m\u001b[38;5;241m.\u001b[39m_inner_layout\u001b[38;5;241m.\u001b[39mloading \u001b[38;5;241m=\u001b[39m \u001b[38;5;28;01mFalse\u001b[39;00m\n",
      "File \u001b[0;32m~/miniforge3/envs/digress/lib/python3.9/site-packages/panel/param.py:1062\u001b[0m, in \u001b[0;36mParamMethod.eval\u001b[0;34m(cls, ref)\u001b[0m\n\u001b[1;32m   1060\u001b[0m \u001b[38;5;129m@classmethod\u001b[39m\n\u001b[1;32m   1061\u001b[0m \u001b[38;5;28;01mdef\u001b[39;00m \u001b[38;5;21meval\u001b[39m(\u001b[38;5;28mcls\u001b[39m, ref):\n\u001b[0;32m-> 1062\u001b[0m     \u001b[38;5;28;01mreturn\u001b[39;00m \u001b[43meval_function_with_deps\u001b[49m\u001b[43m(\u001b[49m\u001b[43mref\u001b[49m\u001b[43m)\u001b[49m\n",
      "File \u001b[0;32m~/miniforge3/envs/digress/lib/python3.9/site-packages/param/parameterized.py:163\u001b[0m, in \u001b[0;36meval_function_with_deps\u001b[0;34m(function)\u001b[0m\n\u001b[1;32m    161\u001b[0m         args \u001b[38;5;241m=\u001b[39m (\u001b[38;5;28mgetattr\u001b[39m(dep\u001b[38;5;241m.\u001b[39mowner, dep\u001b[38;5;241m.\u001b[39mname) \u001b[38;5;28;01mfor\u001b[39;00m dep \u001b[38;5;129;01min\u001b[39;00m arg_deps)\n\u001b[1;32m    162\u001b[0m         kwargs \u001b[38;5;241m=\u001b[39m {n: \u001b[38;5;28mgetattr\u001b[39m(dep\u001b[38;5;241m.\u001b[39mowner, dep\u001b[38;5;241m.\u001b[39mname) \u001b[38;5;28;01mfor\u001b[39;00m n, dep \u001b[38;5;129;01min\u001b[39;00m kw_deps\u001b[38;5;241m.\u001b[39mitems()}\n\u001b[0;32m--> 163\u001b[0m \u001b[38;5;28;01mreturn\u001b[39;00m \u001b[43mfunction\u001b[49m\u001b[43m(\u001b[49m\u001b[38;5;241;43m*\u001b[39;49m\u001b[43margs\u001b[49m\u001b[43m,\u001b[49m\u001b[43m \u001b[49m\u001b[38;5;241;43m*\u001b[39;49m\u001b[38;5;241;43m*\u001b[39;49m\u001b[43mkwargs\u001b[49m\u001b[43m)\u001b[49m\n",
      "Cell \u001b[0;32mIn[18], line 37\u001b[0m, in \u001b[0;36mDashboard.view_network\u001b[0;34m(self)\u001b[0m\n\u001b[1;32m     36\u001b[0m \u001b[38;5;28;01mdef\u001b[39;00m \u001b[38;5;21mview_network\u001b[39m(\u001b[38;5;28mself\u001b[39m):\n\u001b[0;32m---> 37\u001b[0m     \u001b[38;5;28;01mreturn\u001b[39;00m pn\u001b[38;5;241m.\u001b[39mpane\u001b[38;5;241m.\u001b[39mHTML(\u001b[43mupdate_network_html\u001b[49m\u001b[43m(\u001b[49m\u001b[38;5;28;43mself\u001b[39;49m\u001b[38;5;241;43m.\u001b[39;49m\u001b[43mgraph_index\u001b[49m\u001b[43m,\u001b[49m\u001b[43m \u001b[49m\u001b[38;5;28;43mself\u001b[39;49m\u001b[38;5;241;43m.\u001b[39;49m\u001b[43mthreshold\u001b[49m\u001b[43m,\u001b[49m\u001b[43m \u001b[49m\u001b[43mgraphs_data\u001b[49m\u001b[43m)\u001b[49m,\n\u001b[1;32m     38\u001b[0m                           sizing_mode\u001b[38;5;241m=\u001b[39m\u001b[38;5;124m\"\u001b[39m\u001b[38;5;124mstretch_both\u001b[39m\u001b[38;5;124m\"\u001b[39m)\n",
      "Cell \u001b[0;32mIn[18], line 24\u001b[0m, in \u001b[0;36mupdate_network_html\u001b[0;34m(graph_index, threshold, graphs_data)\u001b[0m\n\u001b[1;32m     22\u001b[0m \u001b[38;5;66;03m# Save to a temporary HTML file.\u001b[39;00m\n\u001b[1;32m     23\u001b[0m temp_html \u001b[38;5;241m=\u001b[39m \u001b[38;5;124m\"\u001b[39m\u001b[38;5;124mtemp_network.html\u001b[39m\u001b[38;5;124m\"\u001b[39m\n\u001b[0;32m---> 24\u001b[0m \u001b[43mnet\u001b[49m\u001b[38;5;241;43m.\u001b[39;49m\u001b[43mshow\u001b[49m\u001b[43m(\u001b[49m\u001b[43mtemp_html\u001b[49m\u001b[43m)\u001b[49m\n\u001b[1;32m     25\u001b[0m \u001b[38;5;28;01mwith\u001b[39;00m \u001b[38;5;28mopen\u001b[39m(temp_html, \u001b[38;5;124m\"\u001b[39m\u001b[38;5;124mr\u001b[39m\u001b[38;5;124m\"\u001b[39m, encoding\u001b[38;5;241m=\u001b[39m\u001b[38;5;124m\"\u001b[39m\u001b[38;5;124mutf-8\u001b[39m\u001b[38;5;124m\"\u001b[39m) \u001b[38;5;28;01mas\u001b[39;00m f:\n\u001b[1;32m     26\u001b[0m     html_content \u001b[38;5;241m=\u001b[39m f\u001b[38;5;241m.\u001b[39mread()\n",
      "File \u001b[0;32m~/miniforge3/envs/digress/lib/python3.9/site-packages/pyvis/network.py:546\u001b[0m, in \u001b[0;36mNetwork.show\u001b[0;34m(self, name, local, notebook)\u001b[0m\n\u001b[1;32m    544\u001b[0m \u001b[38;5;28mprint\u001b[39m(name)\n\u001b[1;32m    545\u001b[0m \u001b[38;5;28;01mif\u001b[39;00m notebook:\n\u001b[0;32m--> 546\u001b[0m     \u001b[38;5;28;43mself\u001b[39;49m\u001b[38;5;241;43m.\u001b[39;49m\u001b[43mwrite_html\u001b[49m\u001b[43m(\u001b[49m\u001b[43mname\u001b[49m\u001b[43m,\u001b[49m\u001b[43m \u001b[49m\u001b[43mopen_browser\u001b[49m\u001b[38;5;241;43m=\u001b[39;49m\u001b[38;5;28;43;01mFalse\u001b[39;49;00m\u001b[43m,\u001b[49m\u001b[43mnotebook\u001b[49m\u001b[38;5;241;43m=\u001b[39;49m\u001b[38;5;28;43;01mTrue\u001b[39;49;00m\u001b[43m)\u001b[49m\n\u001b[1;32m    547\u001b[0m \u001b[38;5;28;01melse\u001b[39;00m:\n\u001b[1;32m    548\u001b[0m     \u001b[38;5;28mself\u001b[39m\u001b[38;5;241m.\u001b[39mwrite_html(name, open_browser\u001b[38;5;241m=\u001b[39m\u001b[38;5;28;01mTrue\u001b[39;00m)\n",
      "File \u001b[0;32m~/miniforge3/envs/digress/lib/python3.9/site-packages/pyvis/network.py:515\u001b[0m, in \u001b[0;36mNetwork.write_html\u001b[0;34m(self, name, local, notebook, open_browser)\u001b[0m\n\u001b[1;32m    513\u001b[0m getcwd_name \u001b[38;5;241m=\u001b[39m name\n\u001b[1;32m    514\u001b[0m check_html(getcwd_name)\n\u001b[0;32m--> 515\u001b[0m \u001b[38;5;28mself\u001b[39m\u001b[38;5;241m.\u001b[39mhtml \u001b[38;5;241m=\u001b[39m \u001b[38;5;28;43mself\u001b[39;49m\u001b[38;5;241;43m.\u001b[39;49m\u001b[43mgenerate_html\u001b[49m\u001b[43m(\u001b[49m\u001b[43mnotebook\u001b[49m\u001b[38;5;241;43m=\u001b[39;49m\u001b[43mnotebook\u001b[49m\u001b[43m)\u001b[49m\n\u001b[1;32m    517\u001b[0m \u001b[38;5;28;01mif\u001b[39;00m \u001b[38;5;28mself\u001b[39m\u001b[38;5;241m.\u001b[39mcdn_resources \u001b[38;5;241m==\u001b[39m \u001b[38;5;124m\"\u001b[39m\u001b[38;5;124mlocal\u001b[39m\u001b[38;5;124m\"\u001b[39m:\n\u001b[1;32m    518\u001b[0m     \u001b[38;5;28;01mif\u001b[39;00m \u001b[38;5;129;01mnot\u001b[39;00m os\u001b[38;5;241m.\u001b[39mpath\u001b[38;5;241m.\u001b[39mexists(\u001b[38;5;124m\"\u001b[39m\u001b[38;5;124mlib\u001b[39m\u001b[38;5;124m\"\u001b[39m):\n",
      "File \u001b[0;32m~/miniforge3/envs/digress/lib/python3.9/site-packages/pyvis/network.py:479\u001b[0m, in \u001b[0;36mNetwork.generate_html\u001b[0;34m(self, name, local, notebook)\u001b[0m\n\u001b[1;32m    476\u001b[0m \u001b[38;5;28;01melse\u001b[39;00m:\n\u001b[1;32m    477\u001b[0m     physics_enabled \u001b[38;5;241m=\u001b[39m \u001b[38;5;28mself\u001b[39m\u001b[38;5;241m.\u001b[39moptions\u001b[38;5;241m.\u001b[39mphysics\u001b[38;5;241m.\u001b[39menabled\n\u001b[0;32m--> 479\u001b[0m \u001b[38;5;28mself\u001b[39m\u001b[38;5;241m.\u001b[39mhtml \u001b[38;5;241m=\u001b[39m \u001b[43mtemplate\u001b[49m\u001b[38;5;241;43m.\u001b[39;49m\u001b[43mrender\u001b[49m(height\u001b[38;5;241m=\u001b[39mheight,\n\u001b[1;32m    480\u001b[0m                             width\u001b[38;5;241m=\u001b[39mwidth,\n\u001b[1;32m    481\u001b[0m                             nodes\u001b[38;5;241m=\u001b[39mnodes,\n\u001b[1;32m    482\u001b[0m                             edges\u001b[38;5;241m=\u001b[39medges,\n\u001b[1;32m    483\u001b[0m                             heading\u001b[38;5;241m=\u001b[39mheading,\n\u001b[1;32m    484\u001b[0m                             options\u001b[38;5;241m=\u001b[39moptions,\n\u001b[1;32m    485\u001b[0m                             physics_enabled\u001b[38;5;241m=\u001b[39mphysics_enabled,\n\u001b[1;32m    486\u001b[0m                             use_DOT\u001b[38;5;241m=\u001b[39m\u001b[38;5;28mself\u001b[39m\u001b[38;5;241m.\u001b[39muse_DOT,\n\u001b[1;32m    487\u001b[0m                             dot_lang\u001b[38;5;241m=\u001b[39m\u001b[38;5;28mself\u001b[39m\u001b[38;5;241m.\u001b[39mdot_lang,\n\u001b[1;32m    488\u001b[0m                             widget\u001b[38;5;241m=\u001b[39m\u001b[38;5;28mself\u001b[39m\u001b[38;5;241m.\u001b[39mwidget,\n\u001b[1;32m    489\u001b[0m                             bgcolor\u001b[38;5;241m=\u001b[39m\u001b[38;5;28mself\u001b[39m\u001b[38;5;241m.\u001b[39mbgcolor,\n\u001b[1;32m    490\u001b[0m                             conf\u001b[38;5;241m=\u001b[39m\u001b[38;5;28mself\u001b[39m\u001b[38;5;241m.\u001b[39mconf,\n\u001b[1;32m    491\u001b[0m                             tooltip_link\u001b[38;5;241m=\u001b[39muse_link_template,\n\u001b[1;32m    492\u001b[0m                             neighborhood_highlight\u001b[38;5;241m=\u001b[39m\u001b[38;5;28mself\u001b[39m\u001b[38;5;241m.\u001b[39mneighborhood_highlight,\n\u001b[1;32m    493\u001b[0m                             select_menu\u001b[38;5;241m=\u001b[39m\u001b[38;5;28mself\u001b[39m\u001b[38;5;241m.\u001b[39mselect_menu,\n\u001b[1;32m    494\u001b[0m                             filter_menu\u001b[38;5;241m=\u001b[39m\u001b[38;5;28mself\u001b[39m\u001b[38;5;241m.\u001b[39mfilter_menu,\n\u001b[1;32m    495\u001b[0m                             notebook\u001b[38;5;241m=\u001b[39mnotebook,\n\u001b[1;32m    496\u001b[0m                             cdn_resources\u001b[38;5;241m=\u001b[39m\u001b[38;5;28mself\u001b[39m\u001b[38;5;241m.\u001b[39mcdn_resources\n\u001b[1;32m    497\u001b[0m                             )\n\u001b[1;32m    498\u001b[0m \u001b[38;5;28;01mreturn\u001b[39;00m \u001b[38;5;28mself\u001b[39m\u001b[38;5;241m.\u001b[39mhtml\n",
      "\u001b[0;31mAttributeError\u001b[0m: 'NoneType' object has no attribute 'render'"
     ]
    }
   ],
   "source": [
    "filename = \"generated_samples1.txt\"\n",
    "graphs_data = parse_graphs_file(filename)\n",
    "num_graphs = len(graphs_data)\n",
    "if num_graphs == 0:\n",
    "    print(\"No graphs found in the file.\")\n",
    "\n",
    "\n",
    "# Create the dashboard and update parameter bounds.\n",
    "dashboard = Dashboard()\n",
    "dashboard.param.graph_index.bounds = (0, num_graphs - 1)\n",
    "\n",
    "# Create a Panel layout with parameter widgets and the network view.\n",
    "dashboard_panel = pn.Row(\n",
    "    pn.Param(dashboard.param, widgets={\n",
    "        'graph_index': pn.widgets.IntSlider, \n",
    "        'threshold': pn.widgets.IntSlider\n",
    "    }),\n",
    "    dashboard.view_network\n",
    ")\n",
    "# Save the dashboard as a standalone HTML file.\n",
    "output_html = \"dashboard.html\"\n",
    "dashboard_panel.save(output_html, title=\"Graph Dashboard\", embed=True)\n",
    "print(\"Dashboard saved as\", output_html)"
   ]
  }
 ],
 "metadata": {
  "kernelspec": {
   "display_name": "digress",
   "language": "python",
   "name": "python3"
  },
  "language_info": {
   "codemirror_mode": {
    "name": "ipython",
    "version": 3
   },
   "file_extension": ".py",
   "mimetype": "text/x-python",
   "name": "python",
   "nbconvert_exporter": "python",
   "pygments_lexer": "ipython3",
   "version": "3.9.20"
  }
 },
 "nbformat": 4,
 "nbformat_minor": 2
}
