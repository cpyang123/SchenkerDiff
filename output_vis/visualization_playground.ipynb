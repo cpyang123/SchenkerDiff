{
 "cells": [
  {
   "cell_type": "code",
   "execution_count": 31,
   "metadata": {},
   "outputs": [],
   "source": [
    "import networkx as nx\n",
    "import ipywidgets as widgets\n",
    "from ipywidgets import interact\n",
    "from pyvis.network import Network\n",
    "from IPython.display import display, HTML\n",
    "import os\n"
   ]
  },
  {
   "cell_type": "code",
   "execution_count": 32,
   "metadata": {},
   "outputs": [],
   "source": [
    "\n",
    "%matplotlib inline\n"
   ]
  },
  {
   "cell_type": "code",
   "execution_count": 33,
   "metadata": {},
   "outputs": [],
   "source": [
    "# Define the ordered list of scale degree labels.\n",
    "scale_degrees = [\n",
    "    'A2', 'm2', 'P8', 'A6',\n",
    "    'm7', 'M2', 'm6', 'M7',\n",
    "    'm3', 'M3', 'P5', 'd7',\n",
    "    'P4', 'M6', 'A4', 'd5'\n",
    "]\n",
    "n_scale = len(scale_degrees)\n",
    "\n",
    "rest_val = 16"
   ]
  },
  {
   "cell_type": "code",
   "execution_count": 34,
   "metadata": {},
   "outputs": [],
   "source": [
    "\n",
    "def parse_graph_from_lines(lines):\n",
    "    \"\"\"\n",
    "    Parse a single graph from a list of nonempty lines.\n",
    "    \n",
    "    Expected format:\n",
    "       N=50\n",
    "       X:\n",
    "       <node values spanning one or more lines>\n",
    "       E:\n",
    "       <N*N edge values spanning one or more lines>\n",
    "    \"\"\"\n",
    "    N = int(lines[0].split(\"=\")[1])\n",
    "    try:\n",
    "        x_index = lines.index(\"X:\") + 1\n",
    "    except ValueError:\n",
    "        raise ValueError(\"Could not find 'X:' section in the graph chunk.\")\n",
    "    try:\n",
    "        e_index = lines.index(\"E:\")\n",
    "    except ValueError:\n",
    "        raise ValueError(\"Could not find 'E:' section in the graph chunk.\")\n",
    "    \n",
    "    x_values = []\n",
    "    for line in lines[x_index:e_index]:\n",
    "        x_values.extend(line.split())\n",
    "    if len(x_values) != N:\n",
    "        raise ValueError(f\"Expected {N} node values but found {len(x_values)}\")\n",
    "    nodes = [int(val) for val in x_values]\n",
    "    \n",
    "    edge_numbers = []\n",
    "    for line in lines[e_index+1:]:\n",
    "        edge_numbers.extend(line.split())\n",
    "    if len(edge_numbers) != N * N:\n",
    "        raise ValueError(f\"Expected {N*N} edge values but found {len(edge_numbers)}\")\n",
    "    \n",
    "    matrix = []\n",
    "    for i in range(N):\n",
    "        row = [int(edge_numbers[i * N + j]) for j in range(N)]\n",
    "        matrix.append(row)\n",
    "\n",
    "    upper_triangular = [\n",
    "        [matrix[i][j] if i <= j else 0 for j in range(len(matrix[0]))]\n",
    "        for i in range(len(matrix))\n",
    "    ]\n",
    "    \n",
    "    return N, nodes, upper_triangular\n",
    "\n",
    "def parse_graphs_file(filename):\n",
    "    \"\"\"\n",
    "    Parse a file that contains one or more graphs.\n",
    "    Each graph is assumed to start with a line beginning with \"N=\".\n",
    "    Returns a list of (N, nodes, matrix) tuples.\n",
    "    \"\"\"\n",
    "    with open(filename, \"r\") as f:\n",
    "        lines = [line.strip() for line in f if line.strip()]\n",
    "    \n",
    "    graphs_data = []\n",
    "    i = 0\n",
    "    while i < len(lines):\n",
    "        if lines[i].startswith(\"N=\"):\n",
    "            current_chunk = []\n",
    "            # Collect lines until we hit the next \"N=\" (except for the first line)\n",
    "            while i < len(lines) and (not (lines[i].startswith(\"N=\") and current_chunk)):\n",
    "                current_chunk.append(lines[i])\n",
    "                i += 1\n",
    "            graphs_data.append(parse_graph_from_lines(current_chunk))\n",
    "        else:\n",
    "            i += 1\n",
    "    return graphs_data\n",
    "\n",
    "def build_graph(N, node_vals, matrix):\n",
    "    \"\"\"\n",
    "    Build a NetworkX directed graph from node values and the edge matrix.\n",
    "    Node values of 51 are treated as a rest.\n",
    "    \"\"\"\n",
    "    G = nx.DiGraph()\n",
    "    for i, val in enumerate(node_vals):\n",
    "        label = \"Rest\" if val == rest_val else scale_degrees[val % n_scale]\n",
    "        G.add_node(i, label=label)\n",
    "    for i in range(N):\n",
    "        for j in range(N):\n",
    "            w = matrix[i][j]\n",
    "            if w != 0:\n",
    "                G.add_edge(i, j, weight=w)\n",
    "    return G\n"
   ]
  },
  {
   "cell_type": "code",
   "execution_count": 35,
   "metadata": {},
   "outputs": [],
   "source": [
    "\n",
    "# Parse all graphs from the file.\n",
    "filename = \"generated_samples1.txt\"\n",
    "graphs_data = parse_graphs_file(filename)\n",
    "\n",
    "# Create widgets for interactive selection.\n",
    "graph_dropdown = widgets.Dropdown(\n",
    "    options=[(f\"Graph {i}\", i) for i in range(len(graphs_data))],\n",
    "    description=\"Graph:\"\n",
    ")\n",
    "threshold_slider = widgets.IntSlider(\n",
    "    value=0, min=0, max=30, step=1, description=\"Min Edge Weight:\"\n",
    ")\n",
    "\n",
    "def update_pyvis(graph_index, threshold):\n",
    "    \"\"\"\n",
    "    Update the interactive PyVis visualization.\n",
    "    Filters out edges with weight below the given threshold.\n",
    "    \"\"\"\n",
    "    N, node_vals, matrix = graphs_data[graph_index]\n",
    "    G = build_graph(N, node_vals, matrix)\n",
    "    \n",
    "    # Create a filtered copy of the graph.\n",
    "    H = nx.DiGraph()\n",
    "    for node, data in G.nodes(data=True):\n",
    "        H.add_node(node, **data)\n",
    "    for u, v, data in G.edges(data=True):\n",
    "        if data['weight'] >= threshold:\n",
    "            H.add_edge(u, v, **data)\n",
    "    \n",
    "    # Create a PyVis network.\n",
    "    net = Network(height=\"600px\", width=\"100%\", directed=True, notebook=True, cdn_resources='in_line')\n",
    "\n",
    "    net.from_nx(H)\n",
    "    \n",
    "    # Save to a temporary HTML file and display inline.\n",
    "    temp_html = \"temp_graph.html\"\n",
    "    net.show(temp_html)\n",
    "    with open(temp_html, \"r\", encoding=\"utf-8\") as f:\n",
    "        html_content = f.read()\n",
    "    # display(HTML(html_content))\n",
    " \n",
    "\n",
    "\n"
   ]
  },
  {
   "cell_type": "code",
   "execution_count": 36,
   "metadata": {},
   "outputs": [
    {
     "data": {
      "application/vnd.jupyter.widget-view+json": {
       "model_id": "ee71d30ed43c452a90f413478098c804",
       "version_major": 2,
       "version_minor": 0
      },
      "text/plain": [
       "interactive(children=(Dropdown(description='Graph:', options=(('Graph 0', 0), ('Graph 1', 1), ('Graph 2', 2)),…"
      ]
     },
     "metadata": {},
     "output_type": "display_data"
    },
    {
     "data": {
      "text/plain": [
       "<function __main__.update_pyvis(graph_index, threshold)>"
      ]
     },
     "execution_count": 36,
     "metadata": {},
     "output_type": "execute_result"
    }
   ],
   "source": [
    "# Create interactive controls.\n",
    "interact(update_pyvis, graph_index=graph_dropdown, threshold=threshold_slider)"
   ]
  }
 ],
 "metadata": {
  "kernelspec": {
   "display_name": "digress",
   "language": "python",
   "name": "python3"
  },
  "language_info": {
   "codemirror_mode": {
    "name": "ipython",
    "version": 3
   },
   "file_extension": ".py",
   "mimetype": "text/x-python",
   "name": "python",
   "nbconvert_exporter": "python",
   "pygments_lexer": "ipython3",
   "version": "3.9.20"
  }
 },
 "nbformat": 4,
 "nbformat_minor": 2
}
