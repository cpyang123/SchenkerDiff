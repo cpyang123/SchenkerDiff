{
 "cells": [
  {
   "cell_type": "code",
   "execution_count": 153,
   "metadata": {},
   "outputs": [],
   "source": [
    "#Prettify Json\n",
    "\n",
    "import json\n",
    "\n",
    "with open('Primi_1.json', 'r') as file:\n",
    "    json_data = json.load(file)\n",
    "\n",
    "pretty_json = json.dumps(json_data, indent=4)\n",
    "\n",
    "with open('Primi_1.json', 'w') as file:\n",
    "    file.write(pretty_json)"
   ]
  },
  {
   "cell_type": "code",
   "execution_count": 154,
   "metadata": {},
   "outputs": [
    {
     "data": {
      "text/plain": [
       "{0: (3, 0),\n",
       " 1: (0, 1),\n",
       " 2: (1, 2),\n",
       " 3: (3, 3),\n",
       " 4: (0, 4),\n",
       " 5: (0, 5),\n",
       " 6: (0, 6),\n",
       " 7: (0, 7),\n",
       " 8: (0, 8),\n",
       " 9: (3, 9)}"
      ]
     },
     "execution_count": 154,
     "metadata": {},
     "output_type": "execute_result"
    }
   ],
   "source": [
    "#Get Indexing positions\n",
    "\n",
    "import pickle\n",
    "with open(\"depth_to_global_primi_1.pkl\", 'rb') as f:\n",
    "    depth_to_global = pickle.load(f)\n",
    "\n",
    "global_to_depth = {v: k for k, v in depth_to_global.items()}\n",
    "\n",
    "global_to_depth"
   ]
  },
  {
   "cell_type": "code",
   "execution_count": 155,
   "metadata": {},
   "outputs": [],
   "source": [
    "#Extract depth\n",
    "\n",
    "with open(\"Primi_1_full_graph.pkl\", 'rb') as f:\n",
    "    data = pickle.load(f)\n",
    "\n",
    "data = data['data']\n",
    "\n",
    "i = 0\n",
    "treble_depths = []\n",
    "bass_depths = []\n",
    "while True:\n",
    "    try:\n",
    "        treble_depths.append(sorted(list(set((data[('note', f'treble_depth{i}', 'note')].edge_index).flatten().tolist()))))\n",
    "        bass_depths.append(sorted(list(set((data[('note', f'bass_depth{i}', 'note')].edge_index).flatten().tolist()))))\n",
    "        i += 1\n",
    "    except AttributeError:\n",
    "        break\n",
    "\n",
    "idx_depth = {}\n",
    "\n",
    "for i in range(len(treble_depths)):\n",
    "    for j in treble_depths[i]:\n",
    "        idx_depth[j] = i\n",
    "    for k in bass_depths[i]:\n",
    "        if i == 0 and k in idx_depth:\n",
    "            idx_depth[k+0.1] = i\n",
    "        elif k+0.1 in idx_depth:\n",
    "            idx_depth[k+0.1] = i\n",
    "        else:\n",
    "            idx_depth[k] = i\n",
    "\n",
    "for key,v in global_to_depth.items():\n",
    "    if key not in idx_depth:\n",
    "        idx_depth[key] = 0"
   ]
  },
  {
   "cell_type": "code",
   "execution_count": 156,
   "metadata": {},
   "outputs": [
    {
     "data": {
      "text/plain": [
       "{1: (0, 1),\n",
       " 4: (0, 4),\n",
       " 5: (0, 5),\n",
       " 6: (0, 6),\n",
       " 7: (0, 7),\n",
       " 8: (0, 8),\n",
       " 9: (0, 9),\n",
       " 0: (3, 0),\n",
       " 3: (3, 3),\n",
       " 9.1: (3, 9),\n",
       " 2: (1, 2)}"
      ]
     },
     "execution_count": 156,
     "metadata": {},
     "output_type": "execute_result"
    }
   ],
   "source": [
    "#Reposition notes global_to_depth\n",
    "\n",
    "repositioned_global_to_depth = {}\n",
    "\n",
    "for i in treble_depths[0]:\n",
    "    repositioned_global_to_depth[i] = (0, global_to_depth[i][1])\n",
    "\n",
    "for j in bass_depths[0]:\n",
    "    if j+0.1 in idx_depth:\n",
    "        repositioned_global_to_depth[j+0.1] = (3, global_to_depth[j][1])\n",
    "    else:\n",
    "        repositioned_global_to_depth[j] = (3, global_to_depth[j][1])\n",
    "\n",
    "for k, v in global_to_depth.items():\n",
    "    if k not in repositioned_global_to_depth:\n",
    "        repositioned_global_to_depth[k] = v\n",
    "\n",
    "repositioned_global_to_depth"
   ]
  },
  {
   "cell_type": "code",
   "execution_count": 157,
   "metadata": {},
   "outputs": [],
   "source": [
    "#Get pitch for each note\n",
    "\n",
    "with open('Primi_1.json', 'r') as file:\n",
    "    json_file = json.load(file)\n",
    "\n",
    "t_pitch = json_file['trebleNotes']['pitchNames']\n",
    "b_pitch = json_file['bassNotes']['pitchNames']\n",
    "it_pitch = json_file['innerTrebleNotes']['pitchNames']\n",
    "ib_pitch = json_file['innerBassNotes']['pitchNames']\n",
    "\n",
    "pitches = [t_pitch, it_pitch, ib_pitch, b_pitch]\n",
    "\n",
    "idx_pitch = {}\n",
    "\n",
    "for idx, position in global_to_depth.items():\n",
    "    idx_pitch[idx] = pitches[position[0]][position[1]]"
   ]
  },
  {
   "cell_type": "code",
   "execution_count": 158,
   "metadata": {},
   "outputs": [
    {
     "data": {
      "text/plain": [
       "[[0, 3, 0, 0, 0, 2, 0, 1, 0, 3],\n",
       " [0, 0, 0, 0, 0, 0, 0, 0, 0, 0],\n",
       " [0, 0, 0, 0, 0, 0, 0, 0, 0, 0],\n",
       " [3, 0, 0, 2, 0, 0, 0, 0, 0, 3]]"
      ]
     },
     "execution_count": 158,
     "metadata": {},
     "output_type": "execute_result"
    }
   ],
   "source": [
    "#Add in pitch and depth for repositioned notes\n",
    "\n",
    "verticalities = len(t_pitch)\n",
    "new_t_pitch = ['_'] * verticalities\n",
    "new_b_pitch = ['_'] * verticalities\n",
    "new_it_pitch = ['_'] * verticalities\n",
    "new_ib_pitch = ['_'] * verticalities\n",
    "\n",
    "new_pitch = [new_t_pitch, new_it_pitch, new_ib_pitch, new_b_pitch]\n",
    "new_depth = [[0] * verticalities for _ in range(4)]\n",
    "\n",
    "for idx, position in repositioned_global_to_depth.items():\n",
    "    try:\n",
    "        new_pitch[position[0]][position[1]] = idx_pitch[idx]\n",
    "    except KeyError:\n",
    "        new_pitch[position[0]][position[1]] = idx_pitch[idx - 0.1]\n",
    "    new_depth[position[0]][position[1]] = idx_depth[idx]\n",
    "\n",
    "new_depth"
   ]
  },
  {
   "cell_type": "code",
   "execution_count": 159,
   "metadata": {},
   "outputs": [],
   "source": [
    "#Shove it back to json\n",
    "\n",
    "voice = ['trebleNotes', 'innerTrebleNotes', 'innerBassNotes', 'bassNotes']\n",
    "for i in range(len(voice)):\n",
    "    json_file[voice[i]]['pitchNames'] = new_pitch[i]\n",
    "    json_file[voice[i]]['depths'] = new_depth[i]"
   ]
  },
  {
   "cell_type": "code",
   "execution_count": 160,
   "metadata": {},
   "outputs": [],
   "source": [
    "pretty_json = json.dumps(json_file, indent=4)\n",
    "\n",
    "with open('Primi_1_inferred.json', 'w') as file:\n",
    "    file.write(pretty_json)"
   ]
  },
  {
   "cell_type": "code",
   "execution_count": null,
   "metadata": {},
   "outputs": [],
   "source": []
  }
 ],
 "metadata": {
  "kernelspec": {
   "display_name": "gnn",
   "language": "python",
   "name": "python3"
  },
  "language_info": {
   "codemirror_mode": {
    "name": "ipython",
    "version": 3
   },
   "file_extension": ".py",
   "mimetype": "text/x-python",
   "name": "python",
   "nbconvert_exporter": "python",
   "pygments_lexer": "ipython3",
   "version": "3.11.9"
  }
 },
 "nbformat": 4,
 "nbformat_minor": 2
}
